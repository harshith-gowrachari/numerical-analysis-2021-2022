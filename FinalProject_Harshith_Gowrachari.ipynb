{
 "cells": [
  {
   "cell_type": "code",
   "execution_count": 1,
   "id": "3fe94688",
   "metadata": {
    "id": "3fe94688"
   },
   "outputs": [],
   "source": [
    "%matplotlib inline\n",
    "from numpy import *\n",
    "from matplotlib.pyplot import *\n",
    "\n",
    "import numpy as np\n",
    "import matplotlib.pyplot as plt\n",
    "import sympy as sym\n",
    "import scipy.sparse as sp\n",
    "import scipy.linalg \n",
    "from numpy.linalg import inv"
   ]
  },
  {
   "cell_type": "markdown",
   "id": "8184faab",
   "metadata": {
    "id": "8184faab"
   },
   "source": [
    "Consider the following one-dimensional PDE:\n",
    "$$\n",
    "-u_{xx}(x) = f(x)\\quad\\mathrm{ in }\\ \\Omega = (0, \\pi)\n",
    "$$\n",
    "$$\n",
    "u(x) = 0, \\quad\\mathrm{ on }\\ \\partial\\Omega = \\{0, \\pi\\}\n",
    "$$\n",
    "\n",
    "Given the following $4^{th}$ order finite difference approximation of the second order derivative:\n",
    "\n",
    "$$u_{xx}(x_i) = \\frac{-u_{i-2}+16u_{i-1}-30u_i+16u_{i+1}-u_{i+2}}{12h^2}$$\n",
    "\n",
    "Implement a function that given the domain interval, the forcing function, the number of discretization points, the boundary conditions, returns the matrix $A$ and the the right hand side $b$."
   ]
  },
  {
   "cell_type": "code",
   "execution_count": 2,
   "id": "1c562f13",
   "metadata": {
    "id": "1c562f13"
   },
   "outputs": [],
   "source": [
    "def finDif(omega,f,n,bc):\n",
    "\n",
    "    # defining mesh size and number of equispaced mesh points\n",
    "    h = (omega[1]-omega[0])/n\n",
    "    x = np.linspace(omega[0],omega[1],n+1)\n",
    "\n",
    "    #creating a sparse matrix \n",
    "    data = [-np.ones(n-1),16*np.ones(n), -30*np.ones(n+1), 16*np.ones(n), -np.ones(n-1)]\n",
    "    A = sp.diags(data, [-2, -1, 0, 1, 2], format = \"lil\")\n",
    "    A /= -12*h**2\n",
    "\n",
    "    #RHS \n",
    "    b = f(x)     \n",
    "\n",
    "    # applying BC's for RHS funstion \n",
    "    b[0] = bc[0] \n",
    "    b[-1] = bc[1] \n",
    "\n",
    "    # applying BCs on first row in FD matrix \n",
    "    A[0,:] = 0; A[:,0] = 0 ; A[0,0] = 1 \n",
    "\n",
    "    # applying BCs on last row in FD matrix \n",
    "    A[-1,:] = 0; A[:,-1] = 0 ; A[-1,-1] = 1  \n",
    "    \n",
    "    A = A.toarray()\n",
    "    return A, b"
   ]
  },
  {
   "cell_type": "markdown",
   "id": "c21bb21e",
   "metadata": {
    "id": "c21bb21e"
   },
   "source": [
    "Call the function using:"
   ]
  },
  {
   "cell_type": "code",
   "execution_count": 3,
   "id": "23af8831",
   "metadata": {
    "id": "23af8831"
   },
   "outputs": [],
   "source": [
    "omega = [0,pi]\n",
    "f = lambda x : sin(x)\n",
    "n=100\n",
    "x = np.linspace(omega[0],omega[1],n+1)\n",
    "bc = [0,0]\n",
    "A, b = finDif(omega, f, n, bc)"
   ]
  },
  {
   "cell_type": "markdown",
   "id": "4f8a7c6f",
   "metadata": {
    "id": "4f8a7c6f"
   },
   "source": [
    "Implement two functions that compute the LU and the Cholesky factorization of the system matrix $A$"
   ]
  },
  {
   "cell_type": "markdown",
   "id": "zxcYdbSS9dEa",
   "metadata": {
    "id": "zxcYdbSS9dEa"
   },
   "source": [
    "**LU factorization :**\n",
    "\n",
    "*for i = 1,.........n*\n",
    "\n",
    "*for j = i+1,.......n*\n",
    "\n",
    "$$l_{ji}= \\frac{u_{ji}}{u_{ii}}$$   \n",
    "\n",
    "$$u_{j}= {u_{j}}-{l_{ji}u_{i}}$$\n",
    "\n",
    "\n",
    "\n",
    "\n"
   ]
  },
  {
   "cell_type": "code",
   "execution_count": 4,
   "id": "UfHi87H0TJyi",
   "metadata": {
    "colab": {
     "base_uri": "https://localhost:8080/"
    },
    "id": "UfHi87H0TJyi",
    "outputId": "86d43421-a1f6-4bcc-fd4b-cb52c64ccdc3"
   },
   "outputs": [
    {
     "data": {
      "text/plain": [
       "True"
      ]
     },
     "execution_count": 4,
     "metadata": {},
     "output_type": "execute_result"
    }
   ],
   "source": [
    "def LU(A):\n",
    "    # implementing Gauss Elimination method \n",
    "\n",
    "    N = A.shape[0]                                        # number of rows \n",
    "    U = A.copy()                                          # initilization of matrix U : upper triangular matrix\n",
    "    L = np.eye(N)                                         # initilization of matrix L : lower triangular matrix as identity matrix of dimension N x N\n",
    "    \n",
    "    for i in range(N):                                    # looping over rows\n",
    "            \n",
    "        multiplier = U[i+1:, i] / U[i, i]                 # implementing the operations showed in the above block \n",
    "\n",
    "        L[i+1:, i] = multiplier\n",
    "        U[i+1:] -= multiplier[:, np.newaxis] * U[i]    \n",
    "\n",
    "    return L, U\n",
    "\n",
    "L, U = LU(A)\n",
    "np.allclose(A, L@U)                                       # verifying "
   ]
  },
  {
   "cell_type": "markdown",
   "id": "-qvdajLmBwDE",
   "metadata": {
    "id": "-qvdajLmBwDE"
   },
   "source": [
    "**Cholesky factorization :**"
   ]
  },
  {
   "cell_type": "markdown",
   "id": "l81BvUQfG0rr",
   "metadata": {
    "id": "l81BvUQfG0rr"
   },
   "source": [
    "$$\n",
    "r_{11}= \\sqrt{a_{11}}\n",
    "$$\n",
    "\n",
    "for *i = 2, 3, 4,...... n* : \n",
    "$$\n",
    "r_{j i}=\\frac{1}{r_{j j}}\\left(a_{i j}-\\sum_{k=1}^{j-1} r_{k i} r_{k j}\\right), \\quad j = 1, \\ldots, i-1;  \n",
    "$$\n",
    "\n",
    "$$\n",
    "r_{ii}= \\sqrt{a_{i j}-\\sum_{k=1}^{j-1} r_{ki}^{2}}\n",
    "$$\n"
   ]
  },
  {
   "cell_type": "code",
   "execution_count": 5,
   "id": "193ebfed",
   "metadata": {
    "colab": {
     "base_uri": "https://localhost:8080/"
    },
    "id": "193ebfed",
    "outputId": "2df90a2a-5291-4e64-c8be-ac74d75585be"
   },
   "outputs": [
    {
     "data": {
      "text/plain": [
       "True"
      ]
     },
     "execution_count": 5,
     "metadata": {},
     "output_type": "execute_result"
    }
   ],
   "source": [
    "def cholesky(A):\n",
    "    N = len(A)                                            # number of rows \n",
    "    for k in range(N-1):\n",
    "        A[k,k] = sqrt(A[k,k])                             # implementing the operations showed in the above block\n",
    "        A[k+1:,k] = A[k+1:,k]/A[k,k]\n",
    "        \n",
    "        for j in range(k+1,N):\n",
    "            A[j:,j] = A[j:,j] - A[j:,k]*A[j,k]\n",
    "        \n",
    "    A[-1,-1] = sqrt(A[-1,-1])\n",
    "    L=tril(A)\n",
    "    return L, L.transpose()\n",
    "\n",
    "A1 = A.copy()\n",
    "HT, H = cholesky(A1)\n",
    "\n",
    "np.allclose(A, HT@H)                                     # verifying"
   ]
  },
  {
   "cell_type": "markdown",
   "id": "41eb8436",
   "metadata": {
    "id": "41eb8436"
   },
   "source": [
    "Implement forward and backward substitution functions to exploit the developed factorization methods to solve the derived linear system of equations."
   ]
  },
  {
   "cell_type": "markdown",
   "id": "dRg4she4ModQ",
   "metadata": {
    "id": "dRg4she4ModQ"
   },
   "source": [
    "**Forward substitution :**\n",
    "\n",
    "$$ Ly = b $$\n",
    "\n",
    "$$y_{1}= \\frac{b_{1}}{l_{11}}$$\n",
    "\n",
    "$$\n",
    "y_{i}=\\frac{1}{l_{i i}}\\left(b_{i}-\\sum_{j=1}^{i-1} l_{ij} y_{j}\\right)  \n",
    "$$\n"
   ]
  },
  {
   "cell_type": "code",
   "execution_count": 6,
   "id": "019cf0df",
   "metadata": {
    "id": "019cf0df"
   },
   "outputs": [],
   "source": [
    "# Forward substitution \n",
    "def L_solve(L,b):\n",
    "    y = zeros_like(b)\n",
    "    N = len(L)\n",
    "        \n",
    "    y[0] = b[0]/L[0,0]\n",
    "    for i in range(1,N):\n",
    "        y[i] = (b[i] - dot(L[i, 0:i], y[0:i]))/L[i,i]\n",
    "        \n",
    "    return y"
   ]
  },
  {
   "cell_type": "markdown",
   "id": "vmdxRaFgN6cS",
   "metadata": {
    "id": "vmdxRaFgN6cS"
   },
   "source": [
    "**Backward substitution :**\n",
    "\n",
    "$$ Ux =y$$\n",
    "\n",
    "$$x_{n}= \\frac{y_{n}}{u_{nn}}$$\n",
    "\n",
    "*for i = n-1, n-2, ....., 2, 1*\n",
    "\n",
    "$$\n",
    "x_{i}=\\frac{1}{u_{i i}}\\left(y_{i}-\\sum_{j=i+1}^{n} u_{ij} x_{j}\\right)  \n",
    "$$\n"
   ]
  },
  {
   "cell_type": "code",
   "execution_count": 7,
   "id": "26ce17c4",
   "metadata": {
    "id": "26ce17c4"
   },
   "outputs": [],
   "source": [
    "# Backward substitution \n",
    "def U_solve(U,y):\n",
    "    x = zeros_like(y)\n",
    "    N = len(U)\n",
    "\n",
    "    x[-1] = y[-1]/U[-1,-1]\n",
    "    for i in reversed(range(N-1)):\n",
    "        x[i] = (y[i] - dot(U[i, i+1:N], x[i+1:N]))/U[i,i]\n",
    "        \n",
    "    return x"
   ]
  },
  {
   "cell_type": "markdown",
   "id": "08ac9ba1",
   "metadata": {
    "id": "08ac9ba1"
   },
   "source": [
    "Solve the derived linear system using the implemented functions and plot the computed solution:"
   ]
  },
  {
   "cell_type": "code",
   "execution_count": 8,
   "id": "7c1de4f3",
   "metadata": {
    "colab": {
     "base_uri": "https://localhost:8080/",
     "height": 279
    },
    "id": "7c1de4f3",
    "outputId": "b9e9e342-be46-4e60-f385-c25a3229f19d"
   },
   "outputs": [
    {
     "data": {
      "image/png": "[encoded data removed]",
      "text/plain": [
       "<Figure size 432x288 with 1 Axes>"
      ]
     },
     "metadata": {
      "needs_background": "light"
     },
     "output_type": "display_data"
    }
   ],
   "source": [
    "w = L_solve(L,b)\n",
    "u = U_solve(U,w)\n",
    "\n",
    "_ = plt.plot(x,u,'ro', label= \"u\")\n",
    "_ = plt.plot(x,b, label= \"rhs\")\n",
    "_ = plt.xlabel('X')\n",
    "_ = plt.ylabel('u')\n",
    "_ = plt.legend()"
   ]
  },
  {
   "cell_type": "markdown",
   "id": "62cdfe65",
   "metadata": {
    "id": "62cdfe65"
   },
   "source": [
    "Considering the new domain $\\Omega = (0,1)$ and the forcing term $f(x) = x(1-x)$ with B.C. $u(x) = 0$, on $\\partial \\Omega = {0,1}$ produce a plot and a table where you show the decay of the error w.r.t. the number of grid points.\n",
    "(The analytical solution for the above problems is $u_{an} = \\frac{x^4}{12} - \\frac{x^3}{6} + \\frac{x}{12}$)"
   ]
  },
  {
   "cell_type": "code",
   "execution_count": 9,
   "id": "91212afb",
   "metadata": {
    "colab": {
     "base_uri": "https://localhost:8080/",
     "height": 339
    },
    "id": "91212afb",
    "outputId": "4942b5fc-7124-40f6-b44c-32ab13a4001a"
   },
   "outputs": [
    {
     "name": "stdout",
     "output_type": "stream",
     "text": [
      "Number of Grid points :  [  4.   8.  16.  32.  64. 128. 256. 512.]\n",
      "Corresponding Errors  :  [1.37061404e-03 7.78937754e-04 3.99620238e-04 2.01033422e-04\n",
      " 1.00666934e-04 5.03520769e-05 2.51783542e-05 1.25894660e-05]\n"
     ]
    },
    {
     "data": {
      "image/png": "[encoded data removed]",
      "text/plain": [
       "<Figure size 432x288 with 1 Axes>"
      ]
     },
     "metadata": {
      "needs_background": "light"
     },
     "output_type": "display_data"
    }
   ],
   "source": [
    "omega = [0,1]\n",
    "f = lambda x : x*(1-x)                        # forcing term\n",
    "bc = [0,0]\n",
    "\n",
    "exp = 8\n",
    "NN = zeros(exp)\n",
    "e = zeros(exp)\n",
    "\n",
    "for i in range(exp):\n",
    "    N = 2**(i+2)                              # creating grid points of order 2\n",
    "    NN[i]= N                                  # array of different grid points \n",
    "    A, b = finDif(omega, f, N, bc)\n",
    "    L, U = LU(A)\n",
    "    w = L_solve(L,b)\n",
    "    u = U_solve(U,w)\n",
    "    x = np.linspace(omega[0],omega[1],N+1)    \n",
    "\n",
    "    u_an = (x**4)/12. - (x**3)/6. + x/12.     # computing analytical solution \n",
    "\n",
    "    e[i] =  max(abs(u - u_an))                # error  \n",
    "\n",
    "print(\"Number of Grid points : \", NN)\n",
    "print(\"Corresponding Errors  : \", e)\n",
    "plt.loglog(NN, e, 'o-')\n",
    "plt.grid(True, which=\"both\", axis='both')\n",
    "plt.xlabel('$\\Delta$x-cell size')\n",
    "plt.ylabel('Error')\n",
    "plt.show()\n"
   ]
  },
  {
   "cell_type": "markdown",
   "id": "TuANjC1xJn-r",
   "metadata": {
    "id": "TuANjC1xJn-r"
   },
   "source": [
    "<table>\n",
    "<tr>\n",
    "<td>Number of grid points </td>\n",
    "<td>Error</td>\n",
    "</tr>\n",
    "<tr>\n",
    "<td>4<td>1.37061404e-03</td>\n",
    "<tr>\n",
    "<td>8<td>7.78937754e-04</td>\n",
    "<tr>\n",
    "<td>16<td>3.99620238e-04</td>\n",
    "<tr>\n",
    "<td>32<td>2.01033422e-04</td>\n",
    "<tr>\n",
    "<td>64<td> 1.00666934e-04</td>\n",
    "<tr>\n",
    "<td>128<td>5.03520769e-05</td>\n",
    "<tr>\n",
    "<td>256<td>2.51783542e-05</td>\n",
    "<tr>\n",
    "<td>512<td>1.25894660e-05</td>\n",
    "<tr>\n",
    "<td>1024<td>6.29476942e-06</td>\n",
    "<tr>\n",
    "<td>2048<td>3.14739064e-06</td>\n",
    "<tr>\n",
    "<td>4096<td>1.57370123e-06</td>\n",
    "<tr>\n",
    "</table>"
   ]
  },
  {
   "cell_type": "code",
   "execution_count": 10,
   "id": "XhwEkr8bIfwe",
   "metadata": {
    "id": "XhwEkr8bIfwe"
   },
   "outputs": [],
   "source": [
    "def solve(A, b):\n",
    "    L, U, = LU(A)\n",
    "    w = L_solve(L,b)\n",
    "    u = U_solve(U,w)\n",
    "    return u"
   ]
  },
  {
   "cell_type": "markdown",
   "id": "c8d5002f",
   "metadata": {
    "id": "c8d5002f"
   },
   "source": [
    "Exploit the derived LU factorizations to compute the condition number of the system's matrix $A$ using the original problem formulation."
   ]
  },
  {
   "cell_type": "code",
   "execution_count": 11,
   "id": "olbq-PviCmrS",
   "metadata": {
    "colab": {
     "base_uri": "https://localhost:8080/"
    },
    "id": "olbq-PviCmrS",
    "outputId": "25e88541-dd3f-4650-e0ac-6b0bdffd3920"
   },
   "outputs": [
    {
     "name": "stdout",
     "output_type": "stream",
     "text": [
      "Condition number obtained by using python inbuilt function = 53316.920822\n"
     ]
    }
   ],
   "source": [
    "omega = [0,1]\n",
    "f = lambda x : x*(1-x)\n",
    "n=100\n",
    "x = np.linspace(omega[0],omega[1],n+1)\n",
    "bc = [0,0]\n",
    "A, b = finDif(omega, f, n, bc)\n",
    "print(f\"Condition number obtained by using python inbuilt function = {linalg.cond(A):6f}\")"
   ]
  },
  {
   "cell_type": "code",
   "execution_count": 12,
   "id": "gCo1Q_RieNoT",
   "metadata": {
    "colab": {
     "base_uri": "https://localhost:8080/"
    },
    "id": "gCo1Q_RieNoT",
    "outputId": "bb721640-450a-442c-ae31-e4975021d365"
   },
   "outputs": [
    {
     "name": "stdout",
     "output_type": "stream",
     "text": [
      "Condition number obtained by exploiting LU factorization = 53316.920822\n"
     ]
    }
   ],
   "source": [
    "def condNumb(A):\n",
    "    A = A.copy()\n",
    "    A_inv = solve(A, np.eye(A.shape[0]))                   # returns inverse of a matrix (solve function is shown in the above block)  \n",
    "    condNu = dot(linalg.norm(A, 2), linalg.norm(A_inv, 2)) # K(A)=|A|.|A_inverse| (using L2 norm)  \n",
    "    return condNu\n",
    "\n",
    "cn = condNumb(A)\n",
    "print(f\"Condition number obtained by exploiting LU factorization = {cn:6f}\")"
   ]
  },
  {
   "cell_type": "markdown",
   "id": "2728b49a",
   "metadata": {
    "id": "2728b49a"
   },
   "source": [
    "Implement a preconditioned Conjugant Gradient method to solve the original linear system of equations using an iterative method:"
   ]
  },
  {
   "cell_type": "markdown",
   "id": "UhouLjknTIao",
   "metadata": {
    "id": "UhouLjknTIao"
   },
   "source": [
    "**Preconditioned conjugate gradient :**\n",
    "   \n",
    "   \n",
    "   $$\n",
    "   \\alpha^k = \\frac{{\\bf p}^{k^{T}} {\\bf r}^k}{(A{\\bf p}^{k})^{T}{\\bf p}^k}\n",
    "   $$\n",
    "   \n",
    "      \n",
    "   $$\n",
    "   {\\bf x}^{k+1} = {\\bf x}^k + \\alpha^k {\\bf p}^k\n",
    "   $$\n",
    "   \n",
    "   $$\n",
    "   {\\bf r}^{k+1} = {\\bf r}^k - \\alpha^kA {\\bf p}^k\n",
    "   $$\n",
    "\n",
    "$$\n",
    "P{\\bf z}^{k+1} = {\\bf r}^{k+1}\n",
    "$$\n",
    "\n",
    "   $$\n",
    "   \\beta^k = \\frac{(A{\\bf p}^{k})^{T}{\\bf z}^{k+1}}{{\\bf p}^{k^T}A  {\\bf p}^k}\n",
    "   $$\n",
    "   \n",
    "   $$\n",
    "   {\\bf p}^{k+1} = {\\bf z}^{k+1} - \\beta^k{\\bf p}^k\n",
    "   $$\n"
   ]
  },
  {
   "cell_type": "code",
   "execution_count": 13,
   "id": "62b83aee",
   "metadata": {
    "id": "62b83aee"
   },
   "outputs": [],
   "source": [
    "def conjugate_gradient(A, b, P, nmax=len(A), eps=1e-10):\n",
    "    N = len(A)\n",
    "    rho_old = 1\n",
    "    x =zeros_like(b)\n",
    "    p_old = zeros_like(b)\n",
    "    r = b - dot(A,x)                  # r0\n",
    "\n",
    "    tol = eps + 1\n",
    "    it = 0 \n",
    "    while (it<nmax and tol>eps):      # stopping criteria\n",
    "        it += 1 \n",
    "        z = linalg.solve(P, r)\n",
    "        rho = dot(r, z)\n",
    "        if (it > 1):\n",
    "            beta = rho/rho_old\n",
    "            p = z + beta*p_old \n",
    "        else:\n",
    "            p = z\n",
    "        q = dot(A, p.T)               # implementing the above mentioned operations\n",
    "        alpha = rho/(dot(p,q))\n",
    "        x += alpha*p                  \n",
    "        r -= alpha*q\n",
    "\n",
    "        p_old = p\n",
    "        rho_old = rho\n",
    "\n",
    "        tol = linalg.norm(r, 2)\n",
    "        \n",
    "    print(\"Number of Iterations =\",it,\"\\n\"\n",
    "          \"Tolerance = \",tol)\n",
    "    return x"
   ]
  },
  {
   "cell_type": "code",
   "execution_count": 14,
   "id": "nVFipCmCBXhV",
   "metadata": {
    "colab": {
     "base_uri": "https://localhost:8080/"
    },
    "id": "nVFipCmCBXhV",
    "outputId": "70d82597-cc66-470c-a1a9-c35fb7d0ae08"
   },
   "outputs": [
    {
     "name": "stdout",
     "output_type": "stream",
     "text": [
      "Number of Iterations = 50 \n",
      "Tolerance =  1.0244036483764923e-11\n",
      "Error =  7.914659397897531e-15\n"
     ]
    }
   ],
   "source": [
    "sol_conjugate_gradient = conjugate_gradient(A, b, identity(len(A)))\n",
    "u1 = solve(A, b) #by exploiting LU factorization\n",
    "print(\"Error = \",linalg.norm(sol_conjugate_gradient - u1)/linalg.norm(u1))"
   ]
  },
  {
   "cell_type": "markdown",
   "id": "8a4cfc02",
   "metadata": {
    "id": "8a4cfc02"
   },
   "source": [
    "Consider the following time dependent variation of the PDE starting from the orginal problem formulation:\n",
    "$$\n",
    "u'(t)-u_{xx} = \\alpha(t)f(x)\n",
    "$$\n",
    "\n",
    "for $t\\in [0,T]$, with $\\alpha(t) = \\cos(t)$ and $T = 6\\pi$\n",
    "\n",
    "Use the same finite difference scheme to derive the semi-discrete formulation and solve it using a forward Euler's method.\n",
    "\n",
    "Plot the time dependent solution solution at $x = \\pi/2$, $x=1$, \n",
    "$x=\\pi$\n"
   ]
  },
  {
   "cell_type": "markdown",
   "id": "GERRgt4XtjsM",
   "metadata": {
    "id": "GERRgt4XtjsM"
   },
   "source": [
    "$$u_{i}^{n+1} = u_{i}^{n} + \\frac{Δt({-u_{i-2}+16u_{i-1}-30u_i+16u_{i+1}-u_{i+2}})}{12h^2} + Δt f_{i}^{n}$$"
   ]
  },
  {
   "cell_type": "code",
   "execution_count": 15,
   "id": "RyibTUcXZ1i9",
   "metadata": {
    "id": "RyibTUcXZ1i9"
   },
   "outputs": [],
   "source": [
    "omega = [0, pi]\n",
    "T = [0 , 6*pi]\n",
    "Nx = 100\n",
    "Nt = 10**3\n",
    "\n",
    "# defining space scale and time scale \n",
    "x = linspace(omega[0], omega[1], Nx+1)\n",
    "h = (omega[1] - omega[0])/(Nx+1)\n",
    "t = linspace(T[0], T[1], Nt+1)\n",
    "dt= (T[1]-T[0])/(Nt+1)\n",
    "\n",
    "A, b = finDif(omega, f, Nx, bc)   # using the same finite difference scheme\n",
    "\n",
    "IC = lambda x :0.5 * sin(x)       # initial condition\n",
    "f = lambda t: cos(t) * sin(x)     # forcing term\n",
    "\n",
    "u = zeros((len(x), len(t))) \n",
    "\n",
    "#Set initial condition u(x, 0) = I(X)\n",
    "for i in range(1, Nx):\n",
    "    u[i, 0]= IC(x[i])\n",
    "\n",
    "for n in range(0, Nt):\n",
    "    u[:, n+1] = u[:, n] + (dt/12*h**2)* A.dot(u[:,n]) + dt * f(t[n]) # implementing the scheme shown in the above block"
   ]
  },
  {
   "cell_type": "code",
   "execution_count": 16,
   "id": "ASF35z8ZkNKX",
   "metadata": {
    "colab": {
     "base_uri": "https://localhost:8080/"
    },
    "id": "ASF35z8ZkNKX",
    "outputId": "12e201be-f10e-49a2-d10d-e7cb8e3daf67"
   },
   "outputs": [
    {
     "name": "stdout",
     "output_type": "stream",
     "text": [
      "3.141592653589793 1.5707963267948968 1.0053096491487339 32\n"
     ]
    }
   ],
   "source": [
    "y = where(isclose(x, 1, rtol=0.01))[0][0] #verifying the indices \n",
    "print(x[Nx], x[int(Nx/2)], x[y],y)"
   ]
  },
  {
   "cell_type": "code",
   "execution_count": 17,
   "id": "vlaXotdBiyUz",
   "metadata": {
    "colab": {
     "base_uri": "https://localhost:8080/",
     "height": 334
    },
    "id": "vlaXotdBiyUz",
    "outputId": "53972c20-ba0a-4adb-8c74-b222cfe0764a"
   },
   "outputs": [
    {
     "data": {
      "image/png": "[encoded data removed]",
      "text/plain": [
       "<Figure size 576x360 with 1 Axes>"
      ]
     },
     "metadata": {
      "needs_background": "light"
     },
     "output_type": "display_data"
    }
   ],
   "source": [
    "figure(figsize=[8,5])\n",
    "_= plt.plot(t,u[Nx, :], label =\"$u(t, \\pi)$\")\n",
    "_= plt.plot(t,u[int(Nx/2),:], label =\"$u(t, \\pi/2)$\")\n",
    "_= plt.plot(t,u[y, :], label =\"$u(t,1)$\")\n",
    "plt.xlabel('t')\n",
    "plt.ylabel('u (t,x)')\n",
    "plt.legend(loc='best') \n",
    "plt.show()"
   ]
  },
  {
   "cell_type": "markdown",
   "id": "36936121",
   "metadata": {
    "id": "36936121"
   },
   "source": [
    "Given the original $Au = b$ system, implement an algorithm to compute the eigenvalues and eigenvectors of the matrix $A$. Exploit the computed LU factorization"
   ]
  },
  {
   "cell_type": "code",
   "execution_count": 18,
   "id": "6y8SuEfpBq42",
   "metadata": {
    "id": "6y8SuEfpBq42"
   },
   "outputs": [],
   "source": [
    "omega = [0,pi]\n",
    "f = lambda x : sin(x)\n",
    "n=100\n",
    "x = np.linspace(omega[0],omega[1],n+1)\n",
    "bc = [0,0]\n",
    "A, b = finDif(omega, f, n, bc)\n",
    "A1 = A.copy()"
   ]
  },
  {
   "cell_type": "markdown",
   "id": "IHSuJAU_EJhH",
   "metadata": {
    "id": "IHSuJAU_EJhH"
   },
   "source": [
    "**Dominant Eigen value**"
   ]
  },
  {
   "cell_type": "markdown",
   "id": "T1rDe1zjNLtG",
   "metadata": {
    "id": "T1rDe1zjNLtG"
   },
   "source": [
    "**Power method :**\n",
    "\n",
    "\n",
    "To find dominant eigenvalue $\\lambda_{max}$\n",
    "\n",
    "\\begin{align}\n",
    "\\mathbf{y}_k & = \\frac{\\mathbf{x}^{k}}{\\|\\mathbf{x}^ {k}\\|}\\\\\n",
    "\\mathbf{x}^k & = A\\mathbf{y}^{k-1}\\\\\n",
    "\\lambda_{max}^k & = \\mathbf{y}^T_k \\mathbf{x}^k\n",
    "\\end{align}"
   ]
  },
  {
   "cell_type": "code",
   "execution_count": 19,
   "id": "ruPzfCaCUc7D",
   "metadata": {
    "id": "ruPzfCaCUc7D"
   },
   "outputs": [],
   "source": [
    "def PM(L, U, n, tol=1e-5, nmax=10000):\n",
    "    x0 = ones(n)\n",
    "    y = x0/np.linalg.norm(x0,2)\n",
    "    it = 0\n",
    "    err = tol + 1.\n",
    "    while it < nmax and err > tol:\n",
    "        z = (L@U)@y                     # using lower and upper traingular matrices of matrix A in power method to obtain dominant eigen value\n",
    "        l = dot(y.T,z)\n",
    "        err = np.linalg.norm(z-l*y,2)\n",
    "        y = z/np.linalg.norm(z,2)\n",
    "        \n",
    "        it += 1\n",
    "    #print(f\"error ={err}\")\n",
    "    #print(f\"iterations ={it}\"\n",
    "    print(f\"lambda_max = {l:6f}\")\n",
    "    return l,y                         # returns dominant eigen value"
   ]
  },
  {
   "cell_type": "code",
   "execution_count": 20,
   "id": "6ZcEIyqUP6DE",
   "metadata": {
    "colab": {
     "base_uri": "https://localhost:8080/"
    },
    "id": "6ZcEIyqUP6DE",
    "outputId": "31210ee2-d753-44e3-aa24-7585f4beb054"
   },
   "outputs": [
    {
     "name": "stdout",
     "output_type": "stream",
     "text": [
      "np_lambda_max = 5402.133526\n",
      "lambda_max = 5402.133526\n"
     ]
    }
   ],
   "source": [
    "l_np, x_np = np.linalg.eig(A1)\n",
    "print(f\"np_lambda_max = {np.max(l_np):6f}\")\n",
    "\n",
    "\n",
    "La, Ua = LU(A1)                        # LU factorization\n",
    "l, x = PM(La, Ua, La.shape[0])   "
   ]
  },
  {
   "cell_type": "markdown",
   "id": "0s76XqlN7MG_",
   "metadata": {
    "id": "0s76XqlN7MG_"
   },
   "source": [
    "\n",
    "**solve function**\n",
    "```\n",
    "def solve(A, b):\n",
    "    L, U, = LU(A)     # LU factorization \n",
    "    w = L_solve(L,b)  # forward substituion\n",
    "    u = U_solve(U,w)  # backward substituion \n",
    "    return u\n",
    "```\n"
   ]
  },
  {
   "cell_type": "markdown",
   "id": "WweJb2WNEOTT",
   "metadata": {
    "id": "WweJb2WNEOTT"
   },
   "source": [
    "**Smallest Eigen Value**\n",
    "\n"
   ]
  },
  {
   "cell_type": "markdown",
   "id": "YDWgky3eR4Co",
   "metadata": {
    "id": "YDWgky3eR4Co"
   },
   "source": [
    "**Inverse power method** \n",
    "To find dominant eigenvalue $\\lambda_{min}$\n",
    "\n",
    "\\begin{align}\n",
    "\\mathbf{y}_k & = \\frac{\\mathbf{x}^{k}}{\\|\\mathbf{x}^ {k}\\|}\\\\\n",
    "\\mathbf{x}^k & = A^{-1}\\mathbf{y}^{k-1}\\\\\n",
    "\\lambda_{min}^k & = \\frac{1}{\\mathbf{y}^T_k \\mathbf{x}^k}\n",
    "\\end{align}\n"
   ]
  },
  {
   "cell_type": "code",
   "execution_count": 21,
   "id": "mbk-G0FICs-i",
   "metadata": {
    "id": "mbk-G0FICs-i"
   },
   "outputs": [],
   "source": [
    "def IPM(A,tol=1e-5,nmax=500):\n",
    "      x0 = ones(A.shape[0])\n",
    "      y = x0/np.linalg.norm(x0, 2)\n",
    "\n",
    "      err = tol + 1.\n",
    "      it = 0\n",
    "\n",
    "      while it < nmax and err > tol:\n",
    "          A_inv = solve(A, np.eye(A.shape[0]))  # returns matrix inverse (solve function shown above)\n",
    "          z = dot(A_inv, y)\n",
    "          l = dot(y.T,z)\n",
    "\n",
    "          err = np.linalg.norm(z-l*y,2)\n",
    "          y = z/np.linalg.norm(z,2)\n",
    "          \n",
    "          it += 1\n",
    "      #print(\"error =\", err, \"iterations =\", it)\n",
    "      print(f\"lambda_min = {1/l:6f}\")           # returns smallest eigen value\n",
    "      return l,y"
   ]
  },
  {
   "cell_type": "code",
   "execution_count": 22,
   "id": "i3GJNQuSUWv-",
   "metadata": {
    "colab": {
     "base_uri": "https://localhost:8080/"
    },
    "id": "i3GJNQuSUWv-",
    "outputId": "2fb64cbe-7de5-4c3f-d516-43ae150fe115"
   },
   "outputs": [
    {
     "name": "stdout",
     "output_type": "stream",
     "text": [
      "lambda_min = 1.002007\n",
      "np_lambda_min  = 1.0\n"
     ]
    }
   ],
   "source": [
    "l, q = IPM(A1)\n",
    "l_np, x_np = np.linalg.eig(A1)                  # inbuilt function \n",
    "print(\"np_lambda_min  =\",np.min(l_np))"
   ]
  },
  {
   "cell_type": "markdown",
   "id": "85d5f64e",
   "metadata": {
    "id": "85d5f64e"
   },
   "source": [
    "Compute the inverse of the matrix A exploiting the derived LU factorization"
   ]
  },
  {
   "cell_type": "code",
   "execution_count": 23,
   "id": "ls8z2wR1UE1N",
   "metadata": {
    "colab": {
     "base_uri": "https://localhost:8080/"
    },
    "id": "ls8z2wR1UE1N",
    "outputId": "92b11ce7-8301-4180-9738-9b15d7e87234"
   },
   "outputs": [
    {
     "data": {
      "text/plain": [
       "True"
      ]
     },
     "execution_count": 23,
     "metadata": {},
     "output_type": "execute_result"
    }
   ],
   "source": [
    "I = np.eye(A.shape[0])    # RHS : Identity matrix\n",
    "L, U = LU(A)              # LU factorization \n",
    "w = L_solve(L,I)          # calling forward substitution function  \n",
    "A_inv = U_solve(U,w)      # calling backward substitution function  \n",
    "\n",
    "np.allclose(A@A_inv, I)   # verifying the inverse matrix"
   ]
  },
  {
   "cell_type": "markdown",
   "id": "cb22566e",
   "metadata": {
    "id": "cb22566e"
   },
   "source": [
    "\n",
    "Consider the following Cauchy problem\n",
    "$$\n",
    "\\begin{cases}\n",
    "y'= -ty^2 \\quad 0\\le t \\le 2\\\\\n",
    "y(0) = 1\n",
    "\\end{cases}\n",
    "$$\n",
    "Implement a Backward Euler's method in a suitable function and solve the resulting non-linear equation using a Newton's method."
   ]
  },
  {
   "cell_type": "markdown",
   "id": "EcCCRmCOerm_",
   "metadata": {
    "id": "EcCCRmCOerm_"
   },
   "source": [
    "**Newton's method :**\n",
    "\n",
    "$$\n",
    "y^{k+1} = y^k - \\frac{f(y^k)}{f^{\\prime}(y^k)}\n",
    "$$\n",
    "\n",
    "**After impelmenting backward euler's method in the cauchy's problem, we get** \n",
    "\n",
    "\n",
    "$$\n",
    "F(y) = tΔt.(y^{n})^{2} + y^{n} - y^{n-1} \n",
    "$$\n",
    "\n",
    "$$\n",
    "F^\\prime(y) = 2tΔt.y^{n} + 1 \n",
    "$$"
   ]
  },
  {
   "cell_type": "code",
   "execution_count": 24,
   "id": "U9VZriwwCWK4",
   "metadata": {
    "id": "U9VZriwwCWK4"
   },
   "outputs": [],
   "source": [
    "def Newtons(y0, t0, tf, N, eps= 1e-16, max_it=1000):\n",
    "    errors = []\n",
    "    iterations = []\n",
    "                                                       \n",
    "    t = np.linspace(t0, tf, N+1)                         # defining time scale\n",
    "    dt = (tf-t0)/N\n",
    "\n",
    "    y = zeros(N+1)\n",
    "    y[0] = y0\n",
    "\n",
    "    for n in range(1, N+1):\n",
    "        a= dt*t[n-1]                                   \n",
    "        b= 1\n",
    "        c= -y[n-1]\n",
    "        \n",
    "        def F(y):\n",
    "            return a*y**2 + b*y + c                     # returns F(y), as shown in the above block \n",
    "        \n",
    "        def dF(y):                                        \n",
    "            return 2*a*y + b                            # returns F_prime\n",
    "        \n",
    "        it = 0\n",
    "        y_ = y[n-1]\n",
    "        err = abs(F(y0))\n",
    "\n",
    "        while (abs(F(y_)) > eps and it < max_it):       # stopping criteria \n",
    "            q = dF(y_)\n",
    "            if abs(q) <1e-12:                                 \n",
    "                raise RuntimeError(\"f_prime is close to zero\")\n",
    "                \n",
    "            y_= y_ - F(y_)/dF(y_)                       # Newton's method  \n",
    "            err = abs(F(y_))                            # error\n",
    "            errors.append(err)\n",
    "            it += 1\n",
    "\n",
    "        y[n] = y_\n",
    "        iterations.append(it)\n",
    "\n",
    "    print('y =', y[N])\n",
    "    print(\"error =\", err, \"iterations =\", it)\n",
    "    return y, t, errors"
   ]
  },
  {
   "cell_type": "code",
   "execution_count": 25,
   "id": "_BCNEpZzEqBT",
   "metadata": {
    "colab": {
     "base_uri": "https://localhost:8080/",
     "height": 352
    },
    "id": "_BCNEpZzEqBT",
    "outputId": "81bf57d0-e90e-41e1-f931-e1b9b6f33134"
   },
   "outputs": [
    {
     "name": "stdout",
     "output_type": "stream",
     "text": [
      "y = 0.33844739250913874\n",
      "error = 5.551115123125783e-17 iterations = 3\n",
      "Wall time: 16 ms\n"
     ]
    },
    {
     "data": {
      "image/png": "[encoded data removed]",
      "text/plain": [
       "<Figure size 432x288 with 1 Axes>"
      ]
     },
     "metadata": {
      "needs_background": "light"
     },
     "output_type": "display_data"
    }
   ],
   "source": [
    "%time y, t, errors = Newtons(1, 0, 2, 100)\n",
    "y_exact = 2/(t**2 + 2)                                 # exact solution\n",
    "\n",
    "plt.plot(t,y,'ro',  label = \"Newton's Method\")\n",
    "plt.plot(t,y_exact, 'k', label = 'y_exact')\n",
    "plt.xlabel('t')\n",
    "plt.ylabel('y (t)')\n",
    "plt.legend() \n",
    "plt.show()"
   ]
  }
 ],
 "metadata": {
  "colab": {
   "collapsed_sections": [],
   "name": "FinalProject_Harshith_Gowrachari.ipynb",
   "provenance": []
  },
  "kernelspec": {
   "display_name": "Python 3 (ipykernel)",
   "language": "python",
   "name": "python3"
  },
  "language_info": {
   "codemirror_mode": {
    "name": "ipython",
    "version": 3
   },
   "file_extension": ".py",
   "mimetype": "text/x-python",
   "name": "python",
   "nbconvert_exporter": "python",
   "pygments_lexer": "ipython3",
   "version": "3.9.7"
  }
 },
 "nbformat": 4,
 "nbformat_minor": 5
}
